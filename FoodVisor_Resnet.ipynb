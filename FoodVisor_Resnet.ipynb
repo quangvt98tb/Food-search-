{
 "cells": [
  {
   "cell_type": "code",
   "execution_count": 1,
   "metadata": {},
   "outputs": [],
   "source": [
    "import os\n",
    "import torchvision\n",
    "from torchvision import models,transforms,datasets\n",
    "import torch.nn as nn\n",
    "import torch\n",
    "import time\n",
    "import matplotlib.pyplot as plt"
   ]
  },
  {
   "cell_type": "markdown",
   "metadata": {},
   "source": [
    "## Preprocess data"
   ]
  },
  {
   "cell_type": "code",
   "execution_count": 2,
   "metadata": {},
   "outputs": [],
   "source": [
    "data_dir = './data/images'"
   ]
  },
  {
   "cell_type": "code",
   "execution_count": 3,
   "metadata": {},
   "outputs": [],
   "source": [
    "data_transforms = {\n",
    "    'train': transforms.Compose([\n",
    "        transforms.RandomResizedCrop(224),\n",
    "        transforms.RandomHorizontalFlip(),\n",
    "        transforms.ToTensor(),\n",
    "        transforms.Normalize([0.485, 0.456, 0.406], [0.229, 0.224, 0.225])\n",
    "    ]),\n",
    "    'test': transforms.Compose([\n",
    "        transforms.Resize(256),\n",
    "        transforms.CenterCrop(224),\n",
    "        transforms.ToTensor(),\n",
    "        transforms.Normalize([0.485, 0.456, 0.406], [0.229, 0.224, 0.225])\n",
    "    ]),\n",
    "}\n",
    "def shuffle_valtrain(x):\n",
    "    if x == 'train':\n",
    "        return True\n",
    "    else :\n",
    "        return False\n",
    "    "
   ]
  },
  {
   "cell_type": "code",
   "execution_count": 4,
   "metadata": {},
   "outputs": [],
   "source": [
    "dsets = {x: datasets.ImageFolder(os.path.join(data_dir, x), data_transforms[x])\n",
    "         for x in ['train', 'test']}"
   ]
  },
  {
   "cell_type": "code",
   "execution_count": 5,
   "metadata": {},
   "outputs": [
    {
     "data": {
      "text/plain": [
       "{'train': 67988, 'test': 22716}"
      ]
     },
     "execution_count": 5,
     "metadata": {},
     "output_type": "execute_result"
    }
   ],
   "source": [
    "dset_sizes = {x: len(dsets[x]) for x in ['train', 'test']}\n",
    "dset_sizes"
   ]
  },
  {
   "cell_type": "code",
   "execution_count": 6,
   "metadata": {},
   "outputs": [],
   "source": [
    "dset_loaders = {x: torch.utils.data.DataLoader(dsets[x], batch_size=16,\n",
    "                                               shuffle=shuffle_valtrain(x), num_workers=6)\n",
    "                for x in ['train', 'test']}"
   ]
  },
  {
   "cell_type": "markdown",
   "metadata": {},
   "source": [
    "## Create model"
   ]
  },
  {
   "cell_type": "code",
   "execution_count": 7,
   "metadata": {},
   "outputs": [],
   "source": [
    "model_resnet = models.resnet18(pretrained=True)"
   ]
  },
  {
   "cell_type": "code",
   "execution_count": 8,
   "metadata": {
    "scrolled": true
   },
   "outputs": [
    {
     "name": "stdout",
     "output_type": "stream",
     "text": [
      "ResNet(\n",
      "  (conv1): Conv2d(3, 64, kernel_size=(7, 7), stride=(2, 2), padding=(3, 3), bias=False)\n",
      "  (bn1): BatchNorm2d(64, eps=1e-05, momentum=0.1, affine=True, track_running_stats=True)\n",
      "  (relu): ReLU(inplace=True)\n",
      "  (maxpool): MaxPool2d(kernel_size=3, stride=2, padding=1, dilation=1, ceil_mode=False)\n",
      "  (layer1): Sequential(\n",
      "    (0): BasicBlock(\n",
      "      (conv1): Conv2d(64, 64, kernel_size=(3, 3), stride=(1, 1), padding=(1, 1), bias=False)\n",
      "      (bn1): BatchNorm2d(64, eps=1e-05, momentum=0.1, affine=True, track_running_stats=True)\n",
      "      (relu): ReLU(inplace=True)\n",
      "      (conv2): Conv2d(64, 64, kernel_size=(3, 3), stride=(1, 1), padding=(1, 1), bias=False)\n",
      "      (bn2): BatchNorm2d(64, eps=1e-05, momentum=0.1, affine=True, track_running_stats=True)\n",
      "    )\n",
      "    (1): BasicBlock(\n",
      "      (conv1): Conv2d(64, 64, kernel_size=(3, 3), stride=(1, 1), padding=(1, 1), bias=False)\n",
      "      (bn1): BatchNorm2d(64, eps=1e-05, momentum=0.1, affine=True, track_running_stats=True)\n",
      "      (relu): ReLU(inplace=True)\n",
      "      (conv2): Conv2d(64, 64, kernel_size=(3, 3), stride=(1, 1), padding=(1, 1), bias=False)\n",
      "      (bn2): BatchNorm2d(64, eps=1e-05, momentum=0.1, affine=True, track_running_stats=True)\n",
      "    )\n",
      "  )\n",
      "  (layer2): Sequential(\n",
      "    (0): BasicBlock(\n",
      "      (conv1): Conv2d(64, 128, kernel_size=(3, 3), stride=(2, 2), padding=(1, 1), bias=False)\n",
      "      (bn1): BatchNorm2d(128, eps=1e-05, momentum=0.1, affine=True, track_running_stats=True)\n",
      "      (relu): ReLU(inplace=True)\n",
      "      (conv2): Conv2d(128, 128, kernel_size=(3, 3), stride=(1, 1), padding=(1, 1), bias=False)\n",
      "      (bn2): BatchNorm2d(128, eps=1e-05, momentum=0.1, affine=True, track_running_stats=True)\n",
      "      (downsample): Sequential(\n",
      "        (0): Conv2d(64, 128, kernel_size=(1, 1), stride=(2, 2), bias=False)\n",
      "        (1): BatchNorm2d(128, eps=1e-05, momentum=0.1, affine=True, track_running_stats=True)\n",
      "      )\n",
      "    )\n",
      "    (1): BasicBlock(\n",
      "      (conv1): Conv2d(128, 128, kernel_size=(3, 3), stride=(1, 1), padding=(1, 1), bias=False)\n",
      "      (bn1): BatchNorm2d(128, eps=1e-05, momentum=0.1, affine=True, track_running_stats=True)\n",
      "      (relu): ReLU(inplace=True)\n",
      "      (conv2): Conv2d(128, 128, kernel_size=(3, 3), stride=(1, 1), padding=(1, 1), bias=False)\n",
      "      (bn2): BatchNorm2d(128, eps=1e-05, momentum=0.1, affine=True, track_running_stats=True)\n",
      "    )\n",
      "  )\n",
      "  (layer3): Sequential(\n",
      "    (0): BasicBlock(\n",
      "      (conv1): Conv2d(128, 256, kernel_size=(3, 3), stride=(2, 2), padding=(1, 1), bias=False)\n",
      "      (bn1): BatchNorm2d(256, eps=1e-05, momentum=0.1, affine=True, track_running_stats=True)\n",
      "      (relu): ReLU(inplace=True)\n",
      "      (conv2): Conv2d(256, 256, kernel_size=(3, 3), stride=(1, 1), padding=(1, 1), bias=False)\n",
      "      (bn2): BatchNorm2d(256, eps=1e-05, momentum=0.1, affine=True, track_running_stats=True)\n",
      "      (downsample): Sequential(\n",
      "        (0): Conv2d(128, 256, kernel_size=(1, 1), stride=(2, 2), bias=False)\n",
      "        (1): BatchNorm2d(256, eps=1e-05, momentum=0.1, affine=True, track_running_stats=True)\n",
      "      )\n",
      "    )\n",
      "    (1): BasicBlock(\n",
      "      (conv1): Conv2d(256, 256, kernel_size=(3, 3), stride=(1, 1), padding=(1, 1), bias=False)\n",
      "      (bn1): BatchNorm2d(256, eps=1e-05, momentum=0.1, affine=True, track_running_stats=True)\n",
      "      (relu): ReLU(inplace=True)\n",
      "      (conv2): Conv2d(256, 256, kernel_size=(3, 3), stride=(1, 1), padding=(1, 1), bias=False)\n",
      "      (bn2): BatchNorm2d(256, eps=1e-05, momentum=0.1, affine=True, track_running_stats=True)\n",
      "    )\n",
      "  )\n",
      "  (layer4): Sequential(\n",
      "    (0): BasicBlock(\n",
      "      (conv1): Conv2d(256, 512, kernel_size=(3, 3), stride=(2, 2), padding=(1, 1), bias=False)\n",
      "      (bn1): BatchNorm2d(512, eps=1e-05, momentum=0.1, affine=True, track_running_stats=True)\n",
      "      (relu): ReLU(inplace=True)\n",
      "      (conv2): Conv2d(512, 512, kernel_size=(3, 3), stride=(1, 1), padding=(1, 1), bias=False)\n",
      "      (bn2): BatchNorm2d(512, eps=1e-05, momentum=0.1, affine=True, track_running_stats=True)\n",
      "      (downsample): Sequential(\n",
      "        (0): Conv2d(256, 512, kernel_size=(1, 1), stride=(2, 2), bias=False)\n",
      "        (1): BatchNorm2d(512, eps=1e-05, momentum=0.1, affine=True, track_running_stats=True)\n",
      "      )\n",
      "    )\n",
      "    (1): BasicBlock(\n",
      "      (conv1): Conv2d(512, 512, kernel_size=(3, 3), stride=(1, 1), padding=(1, 1), bias=False)\n",
      "      (bn1): BatchNorm2d(512, eps=1e-05, momentum=0.1, affine=True, track_running_stats=True)\n",
      "      (relu): ReLU(inplace=True)\n",
      "      (conv2): Conv2d(512, 512, kernel_size=(3, 3), stride=(1, 1), padding=(1, 1), bias=False)\n",
      "      (bn2): BatchNorm2d(512, eps=1e-05, momentum=0.1, affine=True, track_running_stats=True)\n",
      "    )\n",
      "  )\n",
      "  (avgpool): AdaptiveAvgPool2d(output_size=(1, 1))\n",
      "  (fc): Linear(in_features=512, out_features=1000, bias=True)\n",
      ")\n"
     ]
    }
   ],
   "source": [
    "print(model_resnet)\n"
   ]
  },
  {
   "cell_type": "code",
   "execution_count": 9,
   "metadata": {},
   "outputs": [],
   "source": [
    "for data in dset_loaders['train']:\n",
    "    inputs_try,labels_try = data\n",
    "    break"
   ]
  },
  {
   "cell_type": "code",
   "execution_count": 10,
   "metadata": {},
   "outputs": [
    {
     "data": {
      "text/plain": [
       "torch.Size([16, 3, 224, 224])"
      ]
     },
     "execution_count": 10,
     "metadata": {},
     "output_type": "execute_result"
    }
   ],
   "source": [
    "inputs_try.shape"
   ]
  },
  {
   "cell_type": "code",
   "execution_count": 11,
   "metadata": {},
   "outputs": [
    {
     "data": {
      "text/plain": [
       "torch.Size([16])"
      ]
     },
     "execution_count": 11,
     "metadata": {},
     "output_type": "execute_result"
    }
   ],
   "source": [
    "labels_try.shape"
   ]
  },
  {
   "cell_type": "code",
   "execution_count": 12,
   "metadata": {},
   "outputs": [
    {
     "data": {
      "text/plain": [
       "torch.Size([16, 1000])"
      ]
     },
     "execution_count": 12,
     "metadata": {},
     "output_type": "execute_result"
    }
   ],
   "source": [
    "outputs_try = model_resnet(inputs_try)\n",
    "outputs_try.shape"
   ]
  },
  {
   "cell_type": "code",
   "execution_count": 13,
   "metadata": {},
   "outputs": [],
   "source": [
    "model_resnet.fc = nn.Linear(512, 101)"
   ]
  },
  {
   "cell_type": "code",
   "execution_count": 14,
   "metadata": {},
   "outputs": [
    {
     "name": "stdout",
     "output_type": "stream",
     "text": [
      "cuda\n"
     ]
    }
   ],
   "source": [
    "device = torch.device('cuda')\n",
    "print(device)"
   ]
  },
  {
   "cell_type": "code",
   "execution_count": 15,
   "metadata": {},
   "outputs": [
    {
     "name": "stdout",
     "output_type": "stream",
     "text": [
      "Using gpu: True \n"
     ]
    }
   ],
   "source": [
    "use_gpu = torch.cuda.is_available()\n",
    "print('Using gpu: %s ' % use_gpu)"
   ]
  },
  {
   "cell_type": "code",
   "execution_count": 16,
   "metadata": {},
   "outputs": [],
   "source": [
    "if use_gpu :\n",
    "    model_resnet = model_resnet.cuda()"
   ]
  },
  {
   "cell_type": "markdown",
   "metadata": {},
   "source": [
    "## Training"
   ]
  },
  {
   "cell_type": "markdown",
   "metadata": {},
   "source": [
    "### Train function"
   ]
  },
  {
   "cell_type": "code",
   "execution_count": 17,
   "metadata": {},
   "outputs": [],
   "source": [
    "path_save_1 = './trained_models/Resnet18/model_best_0.pt'\n",
    "path_save_2 = './trained_models/Resnet18/model_current_0.pt'"
   ]
  },
  {
   "cell_type": "code",
   "execution_count": 18,
   "metadata": {},
   "outputs": [],
   "source": [
    "def train_model(model, criterion,\n",
    "                 train_loaders = None,\n",
    "                 test_loaders = None,\n",
    "                  optimizer = None,\n",
    "                 epochs = 1,train = True, validate = False,\n",
    "                shuffle = True) :\n",
    "    \n",
    "    if train == True :\n",
    "        loss_history = []\n",
    "        acc_history = []\n",
    "        val_loss_history = []\n",
    "        val_acc_history = []\n",
    "        \n",
    "   \n",
    "    for epoch in range(epochs) :\n",
    "        if train == True :\n",
    "            #=========================TRAINING=================================#\n",
    "            start_time_epoch = time.time()\n",
    "            \n",
    "            model.train()\n",
    "    \n",
    "            print(\"Epoch:\", epoch+1,\"/\",epochs,\"===============================================\")\n",
    "        \n",
    "            running_loss = 0.0\n",
    "            running_corrects = 0.0\n",
    "\n",
    "\n",
    "            for i, data in enumerate(train_loaders, 0):\n",
    "                start_time = time.time()\n",
    "\n",
    "                # get the inputs\n",
    "                inputs, classes = data\n",
    "\n",
    "                if use_gpu:\n",
    "                    inputs , classes = inputs.cuda(), classes.cuda()\n",
    "\n",
    "                # calulate outputs and losses\n",
    "                outputs = model(inputs)\n",
    "                loss = criterion(outputs,classes)         \n",
    "\n",
    "                # autograd\n",
    "                optimizer.zero_grad()\n",
    "                loss.backward()\n",
    "                optimizer.step()\n",
    "\n",
    "                # statistics\n",
    "                batch_loss = loss.data.item()\n",
    "                _,preds = torch.max(outputs.data,1)\n",
    "                batch_corrects = torch.sum(preds == classes.data)\n",
    "                running_loss += batch_loss\n",
    "                running_corrects += batch_corrects\n",
    "\n",
    "                print('Batch {:d}/{:d} - Loss: {:.4f} Acc: {:.4f} - Time : {:.2f}s'.format(i+1,len(dset_loaders['train']),\n",
    "                             batch_loss/len(classes), float(batch_corrects)/len(classes), time.time() - start_time), end=\"\\r\")\n",
    "\n",
    "            epoch_loss = running_loss / dset_sizes['train']\n",
    "            epoch_acc = running_corrects.data.item() / dset_sizes['train']\n",
    "            \n",
    "            loss_history.append(epoch_loss)\n",
    "            acc_history.append(epoch_acc)\n",
    "            \n",
    "            print('Epoch {:d} completed in {:.2f} seconds ! Loss: {:.4f} Acc: {:.4f}'.format(\n",
    "                     epoch+1, time.time() - start_time_epoch, epoch_loss, epoch_acc))\n",
    "            \n",
    "            torch.save(model.state_dict(), path_save_2)\n",
    "            \n",
    "        if validate == True :\n",
    "            #=========================VALIDATING=================================#\n",
    "            \n",
    "            model.eval()\n",
    "            \n",
    "            val_loss = 0.0\n",
    "            val_corrects = 0.0\n",
    "            \n",
    "            total = 0\n",
    "\n",
    "            for i, data in enumerate(test_loaders, 0):\n",
    "                start_time = time.time()\n",
    "                \n",
    "                # get the inputs\n",
    "                inputs, classes = data\n",
    "\n",
    "                if use_gpu:\n",
    "                    inputs , classes = inputs.cuda(), classes.cuda()\n",
    "\n",
    "                outputs = model(inputs)\n",
    "\n",
    "                loss = criterion(outputs,classes)        \n",
    "\n",
    "                _,preds = torch.max(outputs.data,1)\n",
    "\n",
    "                # statistics\n",
    "\n",
    "                val_loss += loss.data.item()\n",
    "                val_corrects += torch.sum(preds == classes.data)\n",
    "                total += classes.size(0)\n",
    "                \n",
    "                print('Validating batch {:d}/{:d} - {:.2f}s ...'.format(i+1,len(dset_loaders['test'])\n",
    "                                                                , time.time() - start_time), end=\"\\r\")\n",
    "\n",
    "            val_epoch_loss = val_loss / dset_sizes['test']\n",
    "            val_epoch_acc = val_corrects.data.item() / dset_sizes['test']\n",
    "\n",
    "            print('Val Loss: {:.4f} Val Acc: {:.4f}'.format(\n",
    "                             val_epoch_loss,val_epoch_acc))\n",
    "            \n",
    "            if train == False :\n",
    "                return\n",
    "            else :\n",
    "                if len(val_acc_history) == 0 or val_epoch_acc >= max(val_acc_history) :\n",
    "                    torch.save(model.state_dict(), path_save_1)\n",
    "                \n",
    "                val_loss_history.append(val_epoch_loss)\n",
    "                val_acc_history.append(val_epoch_acc)\n",
    "                \n",
    "    if train == False :\n",
    "        return 'On fait rien!'\n",
    "    elif validate == False :\n",
    "        return loss_history, acc_history\n",
    "    else :\n",
    "        return loss_history, acc_history,val_loss_history,val_acc_history"
   ]
  },
  {
   "cell_type": "markdown",
   "metadata": {},
   "source": [
    "### Loss & Optimizer"
   ]
  },
  {
   "cell_type": "code",
   "execution_count": 19,
   "metadata": {},
   "outputs": [],
   "source": [
    "criterion = nn.CrossEntropyLoss()\n",
    "lr = 0.01\n",
    "optimizer_resnet = torch.optim.SGD(model_resnet.parameters(),lr = lr, momentum = 0.9)"
   ]
  },
  {
   "cell_type": "markdown",
   "metadata": {},
   "source": [
    "### Run Train"
   ]
  },
  {
   "cell_type": "code",
   "execution_count": 20,
   "metadata": {
    "scrolled": false
   },
   "outputs": [
    {
     "name": "stdout",
     "output_type": "stream",
     "text": [
      "Epoch: 1 / 5 ===============================================\n",
      "Epoch 1 completed in 837.03 seconds ! Loss: 0.2090 Acc: 0.2337\n",
      "Val Loss: 0.1603 Val Acc: 0.39125s ...\n",
      "Epoch: 2 / 5 ===============================================\n",
      "Epoch 2 completed in 898.63 seconds ! Loss: 0.1697 Acc: 0.3604\n",
      "Val Loss: 0.1448 Val Acc: 0.46105s ...\n",
      "Epoch: 3 / 5 ===============================================\n",
      "Epoch 3 completed in 877.83 seconds ! Loss: 0.1562 Acc: 0.4091\n",
      "Val Loss: 0.1359 Val Acc: 0.48975s ...\n",
      "Epoch: 4 / 5 ===============================================\n",
      "Epoch 4 completed in 892.48 seconds ! Loss: 0.1468 Acc: 0.4429\n",
      "Val Loss: 0.1270 Val Acc: 0.52325s ...\n",
      "Epoch: 5 / 5 ===============================================\n",
      "Epoch 5 completed in 886.44 seconds ! Loss: 0.1396 Acc: 0.4668\n",
      "Val Loss: 0.1246 Val Acc: 0.53135s ...\n"
     ]
    }
   ],
   "source": [
    "history = train_model(model=model_resnet,criterion=criterion,\n",
    "              train_loaders = dset_loaders['train'],\n",
    "                 test_loaders = dset_loaders['test'],\n",
    "                  optimizer = optimizer_resnet,\n",
    "                 epochs = 5,train = True, validate = True,\n",
    "                shuffle = True)"
   ]
  },
  {
   "cell_type": "code",
   "execution_count": 21,
   "metadata": {},
   "outputs": [
    {
     "data": {
      "text/plain": [
       "<All keys matched successfully>"
      ]
     },
     "execution_count": 21,
     "metadata": {},
     "output_type": "execute_result"
    }
   ],
   "source": [
    "model_resnet.load_state_dict(torch.load('./trained_models/Resnet18/model_current.pt'))\n",
    "# model_resnet.to(device)"
   ]
  },
  {
   "cell_type": "code",
   "execution_count": 22,
   "metadata": {},
   "outputs": [
    {
     "name": "stdout",
     "output_type": "stream",
     "text": [
      "Val Loss: 0.0952 Val Acc: 0.66604s ...\n"
     ]
    }
   ],
   "source": [
    "train_model(model=model_resnet,criterion=criterion,\n",
    "              train_loaders = dset_loaders['train'],\n",
    "                 test_loaders = dset_loaders['test'],\n",
    "                  optimizer = optimizer_resnet,\n",
    "                 epochs = 10,train = False, validate = True,\n",
    "                shuffle = True)"
   ]
  },
  {
   "cell_type": "code",
   "execution_count": 37,
   "metadata": {
    "scrolled": true
   },
   "outputs": [
    {
     "name": "stdout",
     "output_type": "stream",
     "text": [
      "Epoch: 1 / 5 ===============================================\n",
      "Epoch 1 completed in 979.55 seconds ! Loss: 0.1303 Acc: 0.4937\n",
      "Val Loss: 0.1274 Val Acc: 0.53705s ...\n",
      "Epoch: 2 / 5 ===============================================\n",
      "Epoch 2 completed in 908.70 seconds ! Loss: 0.1234 Acc: 0.5203\n",
      "Val Loss: 0.1178 Val Acc: 0.57615s ...\n",
      "Epoch: 3 / 5 ===============================================\n",
      "Epoch 3 completed in 862.65 seconds ! Loss: 0.1188 Acc: 0.5389\n",
      "Val Loss: 0.1164 Val Acc: 0.58695s ...\n",
      "Epoch: 4 / 5 ===============================================\n",
      "Epoch 4 completed in 883.54 seconds ! Loss: 0.1144 Acc: 0.5529\n",
      "Val Loss: 0.1146 Val Acc: 0.58955s ...\n",
      "Epoch: 5 / 5 ===============================================\n",
      "Epoch 5 completed in 846.76 seconds ! Loss: 0.1115 Acc: 0.5629\n",
      "Val Loss: 0.1138 Val Acc: 0.59335s ...\n"
     ]
    }
   ],
   "source": [
    "history_2 = train_model(model=model_resnet,criterion=criterion,\n",
    "              train_loaders = dset_loaders['train'],\n",
    "                 test_loaders = dset_loaders['test'],\n",
    "                  optimizer = optimizer_resnet,\n",
    "                 epochs = 5,train = True, validate = True,\n",
    "                shuffle = True)"
   ]
  },
  {
   "cell_type": "code",
   "execution_count": 38,
   "metadata": {},
   "outputs": [],
   "source": [
    "for i in range(4):\n",
    "    history[i].extend(history_2[i])"
   ]
  },
  {
   "cell_type": "code",
   "execution_count": 39,
   "metadata": {},
   "outputs": [
    {
     "data": {
      "image/png": "[encoded data removed]",
      "text/plain": [
       "<Figure size 432x288 with 1 Axes>"
      ]
     },
     "metadata": {
      "needs_background": "light"
     },
     "output_type": "display_data"
    },
    {
     "data": {
      "image/png": "[encoded data removed]",
      "text/plain": [
       "<Figure size 432x288 with 1 Axes>"
      ]
     },
     "metadata": {
      "needs_background": "light"
     },
     "output_type": "display_data"
    }
   ],
   "source": [
    "plt.figure(1)\n",
    "plt.plot(history[0],color='red',label='Train')\n",
    "plt.plot(history[2],color='orange',label='Test')\n",
    "plt.legend()\n",
    "plt.title(\"Loss history\")\n",
    "\n",
    "plt.figure(2)\n",
    "plt.plot(history[1],color='red',label='Train')\n",
    "plt.plot(history[3],color='orange',label='Test')\n",
    "plt.legend()\n",
    "plt.title(\"Training accuracy history\")\n",
    "\n",
    "plt.show()"
   ]
  },
  {
   "cell_type": "code",
   "execution_count": 40,
   "metadata": {},
   "outputs": [],
   "source": [
    "lr = 0.001\n",
    "optimizer_resnet = torch.optim.SGD(model_resnet.parameters(),lr = lr, momentum = 0.9)"
   ]
  },
  {
   "cell_type": "code",
   "execution_count": 41,
   "metadata": {},
   "outputs": [
    {
     "name": "stdout",
     "output_type": "stream",
     "text": [
      "Epoch: 1 / 10 ===============================================\n",
      "Epoch 1 completed in 811.81 seconds ! Loss: 0.0906 Acc: 0.6411\n",
      "Val Loss: 0.0997 Val Acc: 0.65294s ...\n",
      "Epoch: 2 / 10 ===============================================\n",
      "Epoch 2 completed in 849.70 seconds ! Loss: 0.0850 Acc: 0.6629\n",
      "Val Loss: 0.0986 Val Acc: 0.65814s ...\n",
      "Epoch: 3 / 10 ===============================================\n",
      "Epoch 3 completed in 814.93 seconds ! Loss: 0.0822 Acc: 0.6727\n",
      "Val Loss: 0.0996 Val Acc: 0.66004s ...\n",
      "Epoch: 4 / 10 ===============================================\n",
      "Epoch 4 completed in 832.93 seconds ! Loss: 0.0800 Acc: 0.6819\n",
      "Val Loss: 0.0998 Val Acc: 0.66255s ...\n",
      "Epoch: 5 / 10 ===============================================\n",
      "Epoch 5 completed in 839.08 seconds ! Loss: 0.0789 Acc: 0.6840\n",
      "Val Loss: 0.0987 Val Acc: 0.66535s ...\n",
      "Epoch: 6 / 10 ===============================================\n",
      "Epoch 6 completed in 817.16 seconds ! Loss: 0.0773 Acc: 0.6889\n",
      "Val Loss: 0.0982 Val Acc: 0.66695s ...\n",
      "Epoch: 7 / 10 ===============================================\n",
      "Epoch 7 completed in 821.48 seconds ! Loss: 0.0764 Acc: 0.6931\n",
      "Val Loss: 0.0989 Val Acc: 0.66544s ...\n",
      "Epoch: 8 / 10 ===============================================\n",
      "Epoch 8 completed in 839.57 seconds ! Loss: 0.0748 Acc: 0.7011\n",
      "Val Loss: 0.0995 Val Acc: 0.66845s ...\n",
      "Epoch: 9 / 10 ===============================================\n",
      "Epoch 9 completed in 816.67 seconds ! Loss: 0.0744 Acc: 0.7012\n",
      "Val Loss: 0.1000 Val Acc: 0.66684s ...\n",
      "Epoch: 10 / 10 ===============================================\n",
      "Epoch 10 completed in 780.81 seconds ! Loss: 0.0731 Acc: 0.7055\n",
      "Val Loss: 0.0991 Val Acc: 0.66934s ...\n"
     ]
    }
   ],
   "source": [
    "history_3 = train_model(model=model_resnet,criterion=criterion,\n",
    "              train_loaders = dset_loaders['train'],\n",
    "                 test_loaders = dset_loaders['test'],\n",
    "                  optimizer = optimizer_resnet,\n",
    "                 epochs = 10,train = True, validate = True,\n",
    "                shuffle = True)"
   ]
  },
  {
   "cell_type": "code",
   "execution_count": 42,
   "metadata": {},
   "outputs": [
    {
     "name": "stdout",
     "output_type": "stream",
     "text": [
      "Val Loss: 0.0991 Val Acc: 0.66934s ...\n"
     ]
    }
   ],
   "source": [
    "train_model(model=model_resnet,criterion=criterion,\n",
    "              train_loaders = dset_loaders['train'],\n",
    "                 test_loaders = dset_loaders['test'],\n",
    "                  optimizer = optimizer_resnet,\n",
    "                 epochs = 10,train = False, validate = True,\n",
    "                shuffle = True)"
   ]
  },
  {
   "cell_type": "code",
   "execution_count": 28,
   "metadata": {},
   "outputs": [],
   "source": [
    "history_3 = [[0.0441,0.0413 ,0.0400,0.0392,0.0386],\n",
    "            [0.6500,0.6718 ,0.6812,0.6860,0.6905],\n",
    "            [0.0481,0.0476 ,0.0475,0.0469,0.0472],\n",
    "            [0.6539,0.6591 ,0.6622,0.6624,0.6661]]\n",
    "\n",
    "for i in range(4):\n",
    "    history[i].extend(history_3[i])"
   ]
  },
  {
   "cell_type": "code",
   "execution_count": 29,
   "metadata": {},
   "outputs": [
    {
     "data": {
      "image/png": "[encoded data removed]",
      "text/plain": [
       "<Figure size 432x288 with 1 Axes>"
      ]
     },
     "metadata": {
      "needs_background": "light"
     },
     "output_type": "display_data"
    },
    {
     "data": {
      "image/png": "[encoded data removed]",
      "text/plain": [
       "<Figure size 432x288 with 1 Axes>"
      ]
     },
     "metadata": {
      "needs_background": "light"
     },
     "output_type": "display_data"
    }
   ],
   "source": [
    "plt.figure(1)\n",
    "plt.plot(history[0],color='red',label='Train')\n",
    "plt.plot(history[2],color='orange',label='Test')\n",
    "plt.legend()\n",
    "plt.title(\"Loss history after 15 epochs\")\n",
    "\n",
    "plt.figure(2)\n",
    "plt.plot(history[1],color='red',label='Train')\n",
    "plt.plot(history[3],color='orange',label='Test')\n",
    "plt.legend()\n",
    "plt.title(\"Training accuracy history after 15 epochs\")\n",
    "\n",
    "plt.show()"
   ]
  },
  {
   "cell_type": "markdown",
   "metadata": {},
   "source": [
    "## Without data augmentation + resize"
   ]
  },
  {
   "cell_type": "code",
   "execution_count": 18,
   "metadata": {},
   "outputs": [],
   "source": [
    "prep1 = transforms.Compose([\n",
    "                transforms.CenterCrop(224),\n",
    "                transforms.ToTensor(),\n",
    "                transforms.Normalize(mean=[0.485, 0.456, 0.406], std=[0.229, 0.224, 0.225])\n",
    "            ])"
   ]
  },
  {
   "cell_type": "code",
   "execution_count": 19,
   "metadata": {},
   "outputs": [],
   "source": [
    "dsets = {x: datasets.ImageFolder(os.path.join(data_dir, x), prep1)\n",
    "         for x in ['train', 'test']}\n",
    "\n",
    "dset_loaders = {x: torch.utils.data.DataLoader(dsets[x], batch_size=8,\n",
    "                                               shuffle=shuffle_valtrain(x), num_workers=6)\n",
    "                for x in ['train', 'test']}"
   ]
  },
  {
   "cell_type": "code",
   "execution_count": 20,
   "metadata": {},
   "outputs": [],
   "source": [
    "model_resnet = models.resnet18(pretrained=True)\n",
    "model_resnet.fc = nn.Linear(512, 101)\n",
    "\n",
    "use_gpu = torch.cuda.is_available()\n",
    "if use_gpu :\n",
    "    model_resnet = model_resnet.cuda()"
   ]
  },
  {
   "cell_type": "code",
   "execution_count": 21,
   "metadata": {},
   "outputs": [],
   "source": [
    "criterion = nn.CrossEntropyLoss()\n",
    "lr = 0.01\n",
    "optimizer_resnet = torch.optim.SGD(model_resnet.parameters(),lr = lr, momentum = 0.9)"
   ]
  },
  {
   "cell_type": "code",
   "execution_count": null,
   "metadata": {},
   "outputs": [
    {
     "name": "stdout",
     "output_type": "stream",
     "text": [
      "Epoch: 1 / 10 ===============================================\n",
      "Epoch 1 completed in 959.81 seconds ! Loss: 0.4954 Acc: 0.1047\n",
      "Val Loss: 0.4299 Val Acc: 0.21282s ...\n",
      "Epoch: 2 / 10 ===============================================\n",
      "Epoch 2 completed in 936.59 seconds ! Loss: 0.3949 Acc: 0.2564\n",
      "Val Loss: 0.3664 Val Acc: 0.33172s ...\n",
      "Epoch: 3 / 10 ===============================================\n",
      "Epoch 3 completed in 983.84 seconds ! Loss: 0.3438 Acc: 0.3442\n",
      "Val Loss: 0.3494 Val Acc: 0.36512s ...\n",
      "Epoch: 4 / 10 ===============================================\n",
      "Epoch 4 completed in 976.69 seconds ! Loss: 0.3080 Acc: 0.4074\n",
      "Val Loss: 0.3219 Val Acc: 0.41662s ...\n",
      "Epoch: 5 / 10 ===============================================\n",
      "Epoch 5 completed in 1123.60 seconds ! Loss: 0.2782 Acc: 0.4588\n",
      "Val Loss: 0.3085 Val Acc: 0.43392s ...\n",
      "Epoch: 6 / 10 ===============================================\n",
      "Epoch 6 completed in 1142.33 seconds ! Loss: 0.2489 Acc: 0.5079\n",
      "Val Loss: 0.3155 Val Acc: 0.43456s ...\n",
      "Epoch: 7 / 10 ===============================================\n",
      "Epoch 7 completed in 1402.06 seconds ! Loss: 0.2211 Acc: 0.5556\n",
      "Val Loss: 0.3134 Val Acc: 0.44192s ...\n",
      "Epoch: 8 / 10 ===============================================\n",
      "Epoch 8 completed in 1540.13 seconds ! Loss: 0.1940 Acc: 0.6037\n",
      "Val Loss: 0.3211 Val Acc: 0.44425s ...\n",
      "Epoch: 9 / 10 ===============================================\n",
      "Epoch 9 completed in 1139.56 seconds ! Loss: 0.1677 Acc: 0.6471\n",
      "Validating batch 1067/2840 - 0.04s ...\r"
     ]
    }
   ],
   "source": [
    "history_4 = train_model(model=model_resnet,criterion=criterion,\n",
    "              train_loaders = dset_loaders['train'],\n",
    "                 test_loaders = dset_loaders['test'],\n",
    "                  optimizer = optimizer_resnet,\n",
    "                 epochs = 10,train = True, validate = True,\n",
    "                shuffle = True)"
   ]
  },
  {
   "cell_type": "code",
   "execution_count": 13,
   "metadata": {
    "scrolled": true
   },
   "outputs": [
    {
     "name": "stdout",
     "output_type": "stream",
     "text": [
      "Epoch: 1 / 4 ===============================================\n",
      "Batch 8499/8499 - Loss: 0.7699 Acc: 0.2500 - Time : 0.07s\r"
     ]
    },
    {
     "ename": "NameError",
     "evalue": "name 'dset_sizes' is not defined",
     "output_type": "error",
     "traceback": [
      "\u001b[1;31m---------------------------------------------------------------------------\u001b[0m",
      "\u001b[1;31mNameError\u001b[0m                                 Traceback (most recent call last)",
      "\u001b[1;32m<ipython-input-13-bb2878225336>\u001b[0m in \u001b[0;36m<module>\u001b[1;34m\u001b[0m\n\u001b[1;32m----> 1\u001b[1;33m history_4 = train_model(model=model_resnet,criterion=criterion,\n\u001b[0m\u001b[0;32m      2\u001b[0m               \u001b[0mtrain_loaders\u001b[0m \u001b[1;33m=\u001b[0m \u001b[0mdset_loaders\u001b[0m\u001b[1;33m[\u001b[0m\u001b[1;34m'train'\u001b[0m\u001b[1;33m]\u001b[0m\u001b[1;33m,\u001b[0m\u001b[1;33m\u001b[0m\u001b[1;33m\u001b[0m\u001b[0m\n\u001b[0;32m      3\u001b[0m                  \u001b[0mtest_loaders\u001b[0m \u001b[1;33m=\u001b[0m \u001b[0mdset_loaders\u001b[0m\u001b[1;33m[\u001b[0m\u001b[1;34m'test'\u001b[0m\u001b[1;33m]\u001b[0m\u001b[1;33m,\u001b[0m\u001b[1;33m\u001b[0m\u001b[1;33m\u001b[0m\u001b[0m\n\u001b[0;32m      4\u001b[0m                   \u001b[0moptimizer\u001b[0m \u001b[1;33m=\u001b[0m \u001b[0moptimizer_resnet\u001b[0m\u001b[1;33m,\u001b[0m\u001b[1;33m\u001b[0m\u001b[1;33m\u001b[0m\u001b[0m\n\u001b[0;32m      5\u001b[0m                  \u001b[0mepochs\u001b[0m \u001b[1;33m=\u001b[0m \u001b[1;36m4\u001b[0m\u001b[1;33m,\u001b[0m\u001b[0mtrain\u001b[0m \u001b[1;33m=\u001b[0m \u001b[1;32mTrue\u001b[0m\u001b[1;33m,\u001b[0m \u001b[0mvalidate\u001b[0m \u001b[1;33m=\u001b[0m \u001b[1;32mTrue\u001b[0m\u001b[1;33m,\u001b[0m\u001b[1;33m\u001b[0m\u001b[1;33m\u001b[0m\u001b[0m\n",
      "\u001b[1;32m<ipython-input-12-01857006c560>\u001b[0m in \u001b[0;36mtrain_model\u001b[1;34m(model, criterion, train_loaders, test_loaders, optimizer, epochs, train, validate, shuffle)\u001b[0m\n\u001b[0;32m     54\u001b[0m                              batch_loss/len(classes), float(batch_corrects)/len(classes), time.time() - start_time), end=\"\\r\")\n\u001b[0;32m     55\u001b[0m \u001b[1;33m\u001b[0m\u001b[0m\n\u001b[1;32m---> 56\u001b[1;33m             \u001b[0mepoch_loss\u001b[0m \u001b[1;33m=\u001b[0m \u001b[0mrunning_loss\u001b[0m \u001b[1;33m/\u001b[0m \u001b[0mdset_sizes\u001b[0m\u001b[1;33m[\u001b[0m\u001b[1;34m'train'\u001b[0m\u001b[1;33m]\u001b[0m\u001b[1;33m\u001b[0m\u001b[1;33m\u001b[0m\u001b[0m\n\u001b[0m\u001b[0;32m     57\u001b[0m             \u001b[0mepoch_acc\u001b[0m \u001b[1;33m=\u001b[0m \u001b[0mrunning_corrects\u001b[0m\u001b[1;33m.\u001b[0m\u001b[0mdata\u001b[0m\u001b[1;33m.\u001b[0m\u001b[0mitem\u001b[0m\u001b[1;33m(\u001b[0m\u001b[1;33m)\u001b[0m \u001b[1;33m/\u001b[0m \u001b[0mdset_sizes\u001b[0m\u001b[1;33m[\u001b[0m\u001b[1;34m'train'\u001b[0m\u001b[1;33m]\u001b[0m\u001b[1;33m\u001b[0m\u001b[1;33m\u001b[0m\u001b[0m\n\u001b[0;32m     58\u001b[0m \u001b[1;33m\u001b[0m\u001b[0m\n",
      "\u001b[1;31mNameError\u001b[0m: name 'dset_sizes' is not defined"
     ]
    }
   ],
   "source": [
    "history_4 = train_model(model=model_resnet,criterion=criterion,\n",
    "              train_loaders = dset_loaders['train'],\n",
    "                 test_loaders = dset_loaders['test'],\n",
    "                  optimizer = optimizer_resnet,\n",
    "                 epochs = 4,train = True, validate = True,\n",
    "                shuffle = True)"
   ]
  },
  {
   "cell_type": "code",
   "execution_count": 39,
   "metadata": {},
   "outputs": [],
   "source": [
    "history_5 = [[0.0977,0.0753 ,0.0638,0.0542,0.0451,0.0363],\n",
    "            [0.2851,0.4244 ,0.5005,0.5666,0.6303,0.6935],\n",
    "            [0.0864 ,0.0832 ,0.0767,0.0798,0.0790,0.0860],\n",
    "            [0.3547,0.3975 , 0.4368,0.4382,0.4487,0.4384]]\n",
    "\n",
    "for i in range(4):\n",
    "    history_5[i].extend(history_4[i])"
   ]
  },
  {
   "cell_type": "code",
   "execution_count": 41,
   "metadata": {},
   "outputs": [
    {
     "data": {
      "image/png": "[encoded data removed]",
      "text/plain": [
       "<Figure size 432x288 with 1 Axes>"
      ]
     },
     "metadata": {
      "needs_background": "light"
     },
     "output_type": "display_data"
    },
    {
     "data": {
      "image/png": "[encoded data removed]",
      "text/plain": [
       "<Figure size 432x288 with 1 Axes>"
      ]
     },
     "metadata": {
      "needs_background": "light"
     },
     "output_type": "display_data"
    }
   ],
   "source": [
    "plt.figure(1)\n",
    "plt.plot(history_5[0],color='red',label='Train')\n",
    "plt.plot(history_5[2],color='orange',label='Test')\n",
    "plt.legend()\n",
    "plt.title(\"Loss history after 10 epochs\")\n",
    "\n",
    "plt.figure(2)\n",
    "plt.plot(history_5[1],color='red',label='Train')\n",
    "plt.plot(history_5[3],color='orange',label='Test')\n",
    "plt.legend()\n",
    "plt.title(\"Training accuracy history after 10 epochs\")\n",
    "\n",
    "plt.show()"
   ]
  },
  {
   "cell_type": "code",
   "execution_count": null,
   "metadata": {},
   "outputs": [],
   "source": []
  }
 ],
 "metadata": {
  "kernelspec": {
   "display_name": "Python 3",
   "language": "python",
   "name": "python3"
  },
  "language_info": {
   "codemirror_mode": {
    "name": "ipython",
    "version": 3
   },
   "file_extension": ".py",
   "mimetype": "text/x-python",
   "name": "python",
   "nbconvert_exporter": "python",
   "pygments_lexer": "ipython3",
   "version": "3.8.3"
  }
 },
 "nbformat": 4,
 "nbformat_minor": 2
}
